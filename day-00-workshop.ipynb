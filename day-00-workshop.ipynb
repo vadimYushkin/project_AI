{
 "cells": [
  {
   "cell_type": "markdown",
   "id": "1d3b651e",
   "metadata": {
    "id": "74416b9f-2c14-4c8b-93a4-40417515c84f",
    "papermill": {
     "duration": 0.019135,
     "end_time": "2025-04-07T14:01:49.768320",
     "exception": false,
     "start_time": "2025-04-07T14:01:49.749185",
     "status": "completed"
    },
    "tags": []
   },
   "source": [
    "# Kaggle"
   ]
  },
  {
   "cell_type": "markdown",
   "id": "58c1269a",
   "metadata": {
    "id": "f1939fed-bba6-4852-9c0c-8a971ad08b8e",
    "papermill": {
     "duration": 0.017448,
     "end_time": "2025-04-07T14:01:49.803673",
     "exception": false,
     "start_time": "2025-04-07T14:01:49.786225",
     "status": "completed"
    },
    "tags": []
   },
   "source": [
    "Добро пожаловать в [Kaggle](https://www.kaggle.com/)!"
   ]
  },
  {
   "cell_type": "markdown",
   "id": "ab34b318",
   "metadata": {
    "id": "5dc0a4e1-0d70-4e46-8391-71ce09541a3f",
    "papermill": {
     "duration": 0.017191,
     "end_time": "2025-04-07T14:01:49.838964",
     "exception": false,
     "start_time": "2025-04-07T14:01:49.821773",
     "status": "completed"
    },
    "tags": []
   },
   "source": [
    "Kaggle — это платформа для соревнований по анализу данных и машинному обучению. Здесь можно находить различные наборы \n",
    "данных, решать задачи и участвовать в конкурсах на создание лучших алгоритмов для предсказаний или классификации. \n",
    "Kaggle объединяет сообщество специалистов по анализу данных, где можно обмениваться опытом, изучать новые техники \n",
    "и создавать портфолио проектов.\n",
    "\n",
    "Kaggle предоставляет интерактивную веб-среду для написания и выполнения кода на Python, работы с большими наборами \n",
    "данных прямо в браузере, без необходимости настраивать окружение. Платформа также предоставляет бесплатные \n",
    "вычислительные ресурсы, что делает её отличным выбором для экспериментов и разработки моделей машинного обучения."
   ]
  },
  {
   "cell_type": "markdown",
   "id": "2cb9010e",
   "metadata": {
    "id": "c56b4cad-89a5-49d9-9744-89f3820da3c5",
    "papermill": {
     "duration": 0.016887,
     "end_time": "2025-04-07T14:01:49.872922",
     "exception": false,
     "start_time": "2025-04-07T14:01:49.856035",
     "status": "completed"
    },
    "tags": []
   },
   "source": [
    "# Виды ячеек"
   ]
  },
  {
   "cell_type": "markdown",
   "id": "17d957ae",
   "metadata": {
    "id": "469ef575-a10c-4679-af74-66041c20cfbd",
    "papermill": {
     "duration": 0.0167,
     "end_time": "2025-04-07T14:01:49.906612",
     "exception": false,
     "start_time": "2025-04-07T14:01:49.889912",
     "status": "completed"
    },
    "tags": []
   },
   "source": [
    "Весь код в блокнотах мы ведем в **ячейках** разных типов:\n",
    "* **Markdown** — ячейки для текста в формате [Markdown](https://ru.wikipedia.org/wiki/Markdown).\n",
    "* **Raw** — неформатированный текст.\n",
    "* **Code** — ячейки с кодом (в нашем случае на языке Python)."
   ]
  },
  {
   "cell_type": "markdown",
   "id": "fa1bbe28",
   "metadata": {
    "id": "c73ad952-1e7b-48eb-9845-7e0f9c8ae816",
    "papermill": {
     "duration": 0.016948,
     "end_time": "2025-04-07T14:01:49.940384",
     "exception": false,
     "start_time": "2025-04-07T14:01:49.923436",
     "status": "completed"
    },
    "tags": []
   },
   "source": [
    "Для выполнения ячейки нажми <kbd>shift</kbd> + <kbd>return</kbd> или используй кнопку <kbd>&#9654;</kbd> в панели инструментов."
   ]
  },
  {
   "cell_type": "markdown",
   "id": "47b83400",
   "metadata": {
    "id": "e62a76be-d4d8-486a-b79c-1c698e1bfa3e",
    "papermill": {
     "duration": 0.017125,
     "end_time": "2025-04-07T14:01:49.974806",
     "exception": false,
     "start_time": "2025-04-07T14:01:49.957681",
     "status": "completed"
    },
    "tags": []
   },
   "source": [
    "## Raw ячейки"
   ]
  },
  {
   "cell_type": "raw",
   "id": "8c466ad2",
   "metadata": {
    "id": "fa849b1a-2801-47f0-846d-9d7a334f9a60",
    "papermill": {
     "duration": 0.01696,
     "end_time": "2025-04-07T14:01:50.008909",
     "exception": false,
     "start_time": "2025-04-07T14:01:49.991949",
     "status": "completed"
    },
    "tags": []
   },
   "source": [
    "Это тип ячейки, который используется для отображения текста или кода без выполнения."
   ]
  },
  {
   "cell_type": "markdown",
   "id": "013f25e3",
   "metadata": {
    "id": "63bfeb16-55f5-4ad1-9be4-c67bceac6859",
    "papermill": {
     "duration": 0.01768,
     "end_time": "2025-04-07T14:01:50.043705",
     "exception": false,
     "start_time": "2025-04-07T14:01:50.026025",
     "status": "completed"
    },
    "tags": []
   },
   "source": [
    "## Markdown ячейки\n",
    "Это тип ячейки, который позволяет тебе создавать и форматировать текст с помощью языка разметки [Markdown](https://daringfireball.net/projects/markdown/).\n",
    "\n",
    "Примеры форматирования:\n",
    "\n",
    "- *курсив*\n",
    "- **полужирный**\n",
    "- `код`\n",
    "- [ссылки](https://jupyterlab.readthedocs.io/)\n",
    "- поддержка LaTeX: \\begin{equation}\n",
    "e^x=\\sum_{i=0}^\\infty \\frac{1}{i!}x^i\n",
    "\\end{equation}\n",
    "\n",
    "\n"
   ]
  },
  {
   "cell_type": "markdown",
   "id": "01809b77",
   "metadata": {
    "id": "89221d6a-f6d4-4a6e-8059-9ba160560210",
    "papermill": {
     "duration": 0.016835,
     "end_time": "2025-04-07T14:01:50.077509",
     "exception": false,
     "start_time": "2025-04-07T14:01:50.060674",
     "status": "completed"
    },
    "tags": []
   },
   "source": [
    "## Code ячейки\n",
    "Это тип ячейки, в которой можно исполнять код на выбранном языке программирования (в нашем случае Python). Code ячейки позволяют пользователю вводить код, выполнять его и получать результаты непосредственно внутри ячейки. Каждая ячейка с кодом содержит один или несколько кодовых блоков, которые могут быть выполнены последовательно или в произвольном порядке."
   ]
  },
  {
   "cell_type": "code",
   "execution_count": 1,
   "id": "3c3dc918",
   "metadata": {
    "execution": {
     "iopub.execute_input": "2025-04-07T14:01:50.113056Z",
     "iopub.status.busy": "2025-04-07T14:01:50.112648Z",
     "iopub.status.idle": "2025-04-07T14:01:50.120246Z",
     "shell.execute_reply": "2025-04-07T14:01:50.119290Z"
    },
    "id": "ef09becc-c1a6-4762-839f-5812c0353ee9",
    "outputId": "80e29a4e-619d-4597-cfbf-a9cc414c4f9b",
    "papermill": {
     "duration": 0.027149,
     "end_time": "2025-04-07T14:01:50.121746",
     "exception": false,
     "start_time": "2025-04-07T14:01:50.094597",
     "status": "completed"
    },
    "tags": []
   },
   "outputs": [
    {
     "data": {
      "text/plain": [
       "4"
      ]
     },
     "execution_count": 1,
     "metadata": {},
     "output_type": "execute_result"
    }
   ],
   "source": [
    "2 + 2"
   ]
  },
  {
   "cell_type": "markdown",
   "id": "b2d4621f",
   "metadata": {
    "id": "21b0e81c-bd50-4c2f-8444-4c5aac264865",
    "papermill": {
     "duration": 0.016995,
     "end_time": "2025-04-07T14:01:50.156028",
     "exception": false,
     "start_time": "2025-04-07T14:01:50.139033",
     "status": "completed"
    },
    "tags": []
   },
   "source": [
    "# Иерархия ячеек"
   ]
  },
  {
   "cell_type": "markdown",
   "id": "783e5bed",
   "metadata": {
    "id": "f307e95a-c80d-4584-a94b-d63b69f7711b",
    "papermill": {
     "duration": 0.017279,
     "end_time": "2025-04-07T14:01:50.190727",
     "exception": false,
     "start_time": "2025-04-07T14:01:50.173448",
     "status": "completed"
    },
    "tags": []
   },
   "source": [
    "Markdown поддерживает шесть уровней заголовков для упорядочивания документа. Заголовки — это текст, которому предшествуют 1-4 символов `#`. Чем больше символов, тем ниже уровень.\n",
    "Эти заголовки помогают быстро осуществлять навигацию по блокноту."
   ]
  },
  {
   "cell_type": "markdown",
   "id": "0c80822e",
   "metadata": {
    "id": "928083e7-04f8-4de2-ad84-131089f2fd6c",
    "papermill": {
     "duration": 0.017117,
     "end_time": "2025-04-07T14:01:50.225305",
     "exception": false,
     "start_time": "2025-04-07T14:01:50.208188",
     "status": "completed"
    },
    "tags": []
   },
   "source": [
    "```\n",
    "# H1 Заголовок 1-ого уровня\n",
    "## H2 Заголовок 2-ого уровня\n",
    "### H3 Заголовок 3-ого уровня\n",
    "#### H4 Заголовок 4-ого уровня\n",
    "```"
   ]
  },
  {
   "cell_type": "markdown",
   "id": "da41be15",
   "metadata": {
    "id": "b34e3258-4afa-49d8-be94-3208f0461d29",
    "papermill": {
     "duration": 0.01714,
     "end_time": "2025-04-07T14:01:50.259905",
     "exception": false,
     "start_time": "2025-04-07T14:01:50.242765",
     "status": "completed"
    },
    "tags": []
   },
   "source": [
    "# H1 Заголовок 1-ого уровня"
   ]
  },
  {
   "cell_type": "markdown",
   "id": "612b6680",
   "metadata": {
    "id": "82f4da9a-0b32-43c2-90d3-b23fed1bd075",
    "papermill": {
     "duration": 0.017186,
     "end_time": "2025-04-07T14:01:50.294646",
     "exception": false,
     "start_time": "2025-04-07T14:01:50.277460",
     "status": "completed"
    },
    "tags": []
   },
   "source": [
    "## H2 Заголовок 2-ого уровня"
   ]
  },
  {
   "cell_type": "markdown",
   "id": "29f44d61",
   "metadata": {
    "id": "1534fc71-6d12-46e3-b916-dc70da256a2e",
    "papermill": {
     "duration": 0.017001,
     "end_time": "2025-04-07T14:01:50.330121",
     "exception": false,
     "start_time": "2025-04-07T14:01:50.313120",
     "status": "completed"
    },
    "tags": []
   },
   "source": [
    "### H3 Заголовок 3-ого уровня"
   ]
  },
  {
   "cell_type": "markdown",
   "id": "7e67828b",
   "metadata": {
    "id": "1f44e3a4-5850-434d-adc1-3892bf7f5f1a",
    "papermill": {
     "duration": 0.01764,
     "end_time": "2025-04-07T14:01:50.366059",
     "exception": false,
     "start_time": "2025-04-07T14:01:50.348419",
     "status": "completed"
    },
    "tags": []
   },
   "source": [
    "#### H4 Заголовок 4-ого уровня"
   ]
  },
  {
   "cell_type": "markdown",
   "id": "2e985a37",
   "metadata": {
    "id": "c1464d04-09ff-453d-b4c6-4f56db2fe1da",
    "papermill": {
     "duration": 0.016674,
     "end_time": "2025-04-07T14:01:50.400387",
     "exception": false,
     "start_time": "2025-04-07T14:01:50.383713",
     "status": "completed"
    },
    "tags": []
   },
   "source": [
    "# Введение в Python"
   ]
  },
  {
   "cell_type": "markdown",
   "id": "482b7342",
   "metadata": {
    "id": "aaa38168-ef02-42c5-8018-7a857263e114",
    "papermill": {
     "duration": 0.016754,
     "end_time": "2025-04-07T14:01:50.434388",
     "exception": false,
     "start_time": "2025-04-07T14:01:50.417634",
     "status": "completed"
    },
    "tags": []
   },
   "source": [
    "## Оператор присваивания и переменные"
   ]
  },
  {
   "cell_type": "markdown",
   "id": "767c29c4",
   "metadata": {
    "id": "51fda5d6-a5fe-4fd5-941e-77c7c83ed0a3",
    "papermill": {
     "duration": 0.016812,
     "end_time": "2025-04-07T14:01:50.468428",
     "exception": false,
     "start_time": "2025-04-07T14:01:50.451616",
     "status": "completed"
    },
    "tags": []
   },
   "source": [
    "Имя, которое используется для обозначения какого-либо значения, называется переменной. В Python переменные объявляются следующим образом:"
   ]
  },
  {
   "cell_type": "code",
   "execution_count": 2,
   "id": "3e3b2524",
   "metadata": {
    "execution": {
     "iopub.execute_input": "2025-04-07T14:01:50.504231Z",
     "iopub.status.busy": "2025-04-07T14:01:50.503848Z",
     "iopub.status.idle": "2025-04-07T14:01:50.507837Z",
     "shell.execute_reply": "2025-04-07T14:01:50.506873Z"
    },
    "id": "9dd8e602-c011-4455-9093-89b832841484",
    "papermill": {
     "duration": 0.023636,
     "end_time": "2025-04-07T14:01:50.509380",
     "exception": false,
     "start_time": "2025-04-07T14:01:50.485744",
     "status": "completed"
    },
    "tags": []
   },
   "outputs": [],
   "source": [
    "x = 21 # операция присваивания переменной x значения 21\n",
    "y = 'Cбер' # операция присваивания переменной y строки 'Сбер'"
   ]
  },
  {
   "cell_type": "markdown",
   "id": "44478b27",
   "metadata": {
    "id": "c7931633-cb3d-4e74-8b5a-9a5fad6dd8cf",
    "papermill": {
     "duration": 0.017291,
     "end_time": "2025-04-07T14:01:50.544939",
     "exception": false,
     "start_time": "2025-04-07T14:01:50.527648",
     "status": "completed"
    },
    "tags": []
   },
   "source": [
    "В Python конец строки является концом инструкции. Никаких символов на конце не требуется. \n",
    "\n",
    "Теперь наши значения хранятся в переменных x и y. Можем в этом убедиться, выведя эти переменные.\n",
    "Воспользуемся функцией `print()` для вывода."
   ]
  },
  {
   "cell_type": "code",
   "execution_count": 3,
   "id": "7f8e653a",
   "metadata": {
    "execution": {
     "iopub.execute_input": "2025-04-07T14:01:50.636807Z",
     "iopub.status.busy": "2025-04-07T14:01:50.636436Z",
     "iopub.status.idle": "2025-04-07T14:01:50.641302Z",
     "shell.execute_reply": "2025-04-07T14:01:50.640303Z"
    },
    "id": "a6a0f210-7a47-41b7-9269-0395ac9ad9cf",
    "outputId": "1da776e8-2126-4bcd-bbb8-0d1571d7a0e0",
    "papermill": {
     "duration": 0.025035,
     "end_time": "2025-04-07T14:01:50.643017",
     "exception": false,
     "start_time": "2025-04-07T14:01:50.617982",
     "status": "completed"
    },
    "tags": []
   },
   "outputs": [
    {
     "name": "stdout",
     "output_type": "stream",
     "text": [
      "21\n"
     ]
    }
   ],
   "source": [
    "print(x)"
   ]
  },
  {
   "cell_type": "code",
   "execution_count": 4,
   "id": "bc9dd535",
   "metadata": {
    "execution": {
     "iopub.execute_input": "2025-04-07T14:01:50.679667Z",
     "iopub.status.busy": "2025-04-07T14:01:50.679311Z",
     "iopub.status.idle": "2025-04-07T14:01:50.683981Z",
     "shell.execute_reply": "2025-04-07T14:01:50.682989Z"
    },
    "id": "b45c08a1-4fd0-486e-bedc-6b7bce49d245",
    "outputId": "2c5be27b-830a-423c-d5f6-4065d55acad5",
    "papermill": {
     "duration": 0.024931,
     "end_time": "2025-04-07T14:01:50.685689",
     "exception": false,
     "start_time": "2025-04-07T14:01:50.660758",
     "status": "completed"
    },
    "tags": []
   },
   "outputs": [
    {
     "name": "stdout",
     "output_type": "stream",
     "text": [
      "Cбер\n"
     ]
    }
   ],
   "source": [
    "print(y)"
   ]
  },
  {
   "cell_type": "markdown",
   "id": "1ee7b973",
   "metadata": {
    "id": "9bfce5f3-d71d-4352-bd56-453f7a33a2cf",
    "papermill": {
     "duration": 0.017542,
     "end_time": "2025-04-07T14:01:50.720925",
     "exception": false,
     "start_time": "2025-04-07T14:01:50.703383",
     "status": "completed"
    },
    "tags": []
   },
   "source": [
    "Правила для названия переменной:\n",
    "* Допустимые символы в названиях переменной: буквы, цифры, _ (подчеркивание)\n",
    "* Название может начинаться только с буквы или _"
   ]
  },
  {
   "cell_type": "code",
   "execution_count": 5,
   "id": "4e2344a3",
   "metadata": {
    "execution": {
     "iopub.execute_input": "2025-04-07T14:01:50.757237Z",
     "iopub.status.busy": "2025-04-07T14:01:50.756859Z",
     "iopub.status.idle": "2025-04-07T14:01:50.760867Z",
     "shell.execute_reply": "2025-04-07T14:01:50.759898Z"
    },
    "id": "27b4a6f9-ce1e-4458-8c3c-6523d9655d76",
    "papermill": {
     "duration": 0.02397,
     "end_time": "2025-04-07T14:01:50.762443",
     "exception": false,
     "start_time": "2025-04-07T14:01:50.738473",
     "status": "completed"
    },
    "tags": []
   },
   "outputs": [],
   "source": [
    "name = 1\n",
    "_name = 2\n",
    "name_21 = 21"
   ]
  },
  {
   "cell_type": "markdown",
   "id": "dddaf7f8",
   "metadata": {
    "id": "04f28162-a837-49f1-bfa6-9667fed13117",
    "papermill": {
     "duration": 0.017626,
     "end_time": "2025-04-07T14:01:50.798742",
     "exception": false,
     "start_time": "2025-04-07T14:01:50.781116",
     "status": "completed"
    },
    "tags": []
   },
   "source": [
    "Попробуем начать название с цифры:"
   ]
  },
  {
   "cell_type": "code",
   "execution_count": 6,
   "id": "43b71fab",
   "metadata": {
    "execution": {
     "iopub.execute_input": "2025-04-07T14:01:50.834139Z",
     "iopub.status.busy": "2025-04-07T14:01:50.833787Z",
     "iopub.status.idle": "2025-04-07T14:01:50.839473Z",
     "shell.execute_reply": "2025-04-07T14:01:50.838055Z"
    },
    "id": "19abc6b9-4994-49f9-99d1-b50f37867617",
    "outputId": "ba9b405b-07af-4510-fd99-a9ebe24df268",
    "papermill": {
     "duration": 0.025068,
     "end_time": "2025-04-07T14:01:50.840925",
     "exception": true,
     "start_time": "2025-04-07T14:01:50.815857",
     "status": "failed"
    },
    "tags": []
   },
   "outputs": [
    {
     "ename": "SyntaxError",
     "evalue": "invalid decimal literal (<ipython-input-6-f8c8f200fb9f>, line 1)",
     "output_type": "error",
     "traceback": [
      "\u001b[0;36m  File \u001b[0;32m\"<ipython-input-6-f8c8f200fb9f>\"\u001b[0;36m, line \u001b[0;32m1\u001b[0m\n\u001b[0;31m    1_num = 1 # Получаем SyntaxError — ошибку синтаксиса\u001b[0m\n\u001b[0m     ^\u001b[0m\n\u001b[0;31mSyntaxError\u001b[0m\u001b[0;31m:\u001b[0m invalid decimal literal\n"
     ]
    }
   ],
   "source": [
    "1_num = 1 # Получаем SyntaxError — ошибку синтаксиса"
   ]
  },
  {
   "cell_type": "markdown",
   "id": "83efe8d4",
   "metadata": {
    "id": "8f1b62b5-5209-4a47-a374-b834523c16f9",
    "papermill": {
     "duration": null,
     "end_time": null,
     "exception": null,
     "start_time": null,
     "status": "pending"
    },
    "tags": []
   },
   "source": [
    "## Математические операторы и численные типы"
   ]
  },
  {
   "cell_type": "markdown",
   "id": "563aceac",
   "metadata": {
    "id": "c6343f42-46a0-4417-b3f1-f0e951de0f09",
    "papermill": {
     "duration": null,
     "end_time": null,
     "exception": null,
     "start_time": null,
     "status": "pending"
    },
    "tags": []
   },
   "source": [
    "| Обозначение | Оператор |\n",
    "|----|---|\n",
    "| +  | Сложение |\n",
    "| -  | Вычитание |\n",
    "| /  | Деление |\n",
    "| //  | Целочисленное деление |\n",
    "| %  | Взятие остатка от деления |\n",
    "| *  | Умножение |\n",
    "| **  | Возведение в степень |"
   ]
  },
  {
   "cell_type": "code",
   "execution_count": null,
   "id": "73972623",
   "metadata": {
    "execution": {
     "iopub.execute_input": "2024-09-20T07:13:30.559679Z",
     "iopub.status.busy": "2024-09-20T07:13:30.559210Z",
     "iopub.status.idle": "2024-09-20T07:13:30.564870Z",
     "shell.execute_reply": "2024-09-20T07:13:30.563506Z",
     "shell.execute_reply.started": "2024-09-20T07:13:30.559642Z"
    },
    "id": "e27b7ff7-2b8f-46d8-8ab6-4bf1cfec9999",
    "papermill": {
     "duration": null,
     "end_time": null,
     "exception": null,
     "start_time": null,
     "status": "pending"
    },
    "tags": []
   },
   "outputs": [],
   "source": [
    "a = 12\n",
    "b = 4"
   ]
  },
  {
   "cell_type": "code",
   "execution_count": null,
   "id": "4e8bcaa5",
   "metadata": {
    "execution": {
     "iopub.execute_input": "2024-09-20T07:13:31.023916Z",
     "iopub.status.busy": "2024-09-20T07:13:31.023454Z",
     "iopub.status.idle": "2024-09-20T07:13:31.031284Z",
     "shell.execute_reply": "2024-09-20T07:13:31.030150Z",
     "shell.execute_reply.started": "2024-09-20T07:13:31.023878Z"
    },
    "id": "929c0a34-db9b-439d-ab55-b6724e91cfea",
    "outputId": "6ac45a33-c8e5-4834-851d-6959d9b21b6b",
    "papermill": {
     "duration": null,
     "end_time": null,
     "exception": null,
     "start_time": null,
     "status": "pending"
    },
    "tags": []
   },
   "outputs": [],
   "source": [
    "type(a)"
   ]
  },
  {
   "cell_type": "code",
   "execution_count": null,
   "id": "dc984bc7",
   "metadata": {
    "execution": {
     "iopub.execute_input": "2024-09-20T07:13:31.110310Z",
     "iopub.status.busy": "2024-09-20T07:13:31.109256Z",
     "iopub.status.idle": "2024-09-20T07:13:31.115295Z",
     "shell.execute_reply": "2024-09-20T07:13:31.113813Z",
     "shell.execute_reply.started": "2024-09-20T07:13:31.110267Z"
    },
    "id": "868a9a4d-3a24-4b1c-8c60-021f59fca25f",
    "papermill": {
     "duration": null,
     "end_time": null,
     "exception": null,
     "start_time": null,
     "status": "pending"
    },
    "tags": []
   },
   "outputs": [],
   "source": [
    "c = a + b"
   ]
  },
  {
   "cell_type": "code",
   "execution_count": null,
   "id": "5d59a701",
   "metadata": {
    "execution": {
     "iopub.execute_input": "2024-09-20T07:13:31.195881Z",
     "iopub.status.busy": "2024-09-20T07:13:31.194563Z",
     "iopub.status.idle": "2024-09-20T07:13:31.201865Z",
     "shell.execute_reply": "2024-09-20T07:13:31.200458Z",
     "shell.execute_reply.started": "2024-09-20T07:13:31.195832Z"
    },
    "id": "83d0ef99-d26d-4638-937a-f534a06a8b2a",
    "outputId": "889e799c-ca89-47bf-caa0-4c07094d7f35",
    "papermill": {
     "duration": null,
     "end_time": null,
     "exception": null,
     "start_time": null,
     "status": "pending"
    },
    "tags": []
   },
   "outputs": [],
   "source": [
    "print(c)"
   ]
  },
  {
   "cell_type": "code",
   "execution_count": null,
   "id": "95103acd",
   "metadata": {
    "execution": {
     "iopub.execute_input": "2024-09-20T07:13:31.276377Z",
     "iopub.status.busy": "2024-09-20T07:13:31.275538Z",
     "iopub.status.idle": "2024-09-20T07:13:31.284029Z",
     "shell.execute_reply": "2024-09-20T07:13:31.282477Z",
     "shell.execute_reply.started": "2024-09-20T07:13:31.276331Z"
    },
    "id": "dcd6184e-c8bc-4fda-8426-532b8ae7f7b2",
    "outputId": "733c9b20-c4ec-4e15-ce1c-c04f9cdd53ef",
    "papermill": {
     "duration": null,
     "end_time": null,
     "exception": null,
     "start_time": null,
     "status": "pending"
    },
    "tags": []
   },
   "outputs": [],
   "source": [
    "type(c)"
   ]
  },
  {
   "cell_type": "code",
   "execution_count": null,
   "id": "4a8a9b96",
   "metadata": {
    "execution": {
     "iopub.execute_input": "2024-09-20T07:13:31.359419Z",
     "iopub.status.busy": "2024-09-20T07:13:31.359046Z",
     "iopub.status.idle": "2024-09-20T07:13:31.365140Z",
     "shell.execute_reply": "2024-09-20T07:13:31.363514Z",
     "shell.execute_reply.started": "2024-09-20T07:13:31.359386Z"
    },
    "id": "c6f5f29a-91e6-4097-ae59-32a0765a0292",
    "papermill": {
     "duration": null,
     "end_time": null,
     "exception": null,
     "start_time": null,
     "status": "pending"
    },
    "tags": []
   },
   "outputs": [],
   "source": [
    "d = 3.5"
   ]
  },
  {
   "cell_type": "code",
   "execution_count": null,
   "id": "a50ef400",
   "metadata": {
    "execution": {
     "iopub.execute_input": "2024-09-20T07:13:31.441750Z",
     "iopub.status.busy": "2024-09-20T07:13:31.441345Z",
     "iopub.status.idle": "2024-09-20T07:13:31.447465Z",
     "shell.execute_reply": "2024-09-20T07:13:31.446289Z",
     "shell.execute_reply.started": "2024-09-20T07:13:31.441715Z"
    },
    "id": "991331b2-3351-4842-b9a1-b0d846b3a17d",
    "outputId": "3dbbae92-b4c0-450a-d844-5fc680c729e4",
    "papermill": {
     "duration": null,
     "end_time": null,
     "exception": null,
     "start_time": null,
     "status": "pending"
    },
    "tags": []
   },
   "outputs": [],
   "source": [
    "print(d)"
   ]
  },
  {
   "cell_type": "code",
   "execution_count": null,
   "id": "d2b26949",
   "metadata": {
    "execution": {
     "iopub.execute_input": "2024-09-20T07:13:31.528984Z",
     "iopub.status.busy": "2024-09-20T07:13:31.527683Z",
     "iopub.status.idle": "2024-09-20T07:13:31.536066Z",
     "shell.execute_reply": "2024-09-20T07:13:31.534707Z",
     "shell.execute_reply.started": "2024-09-20T07:13:31.528936Z"
    },
    "id": "35a2bdc6-1d43-4f51-b2ae-14c0803e08bd",
    "outputId": "1f315161-e435-4bb4-c929-9aba457cc5f8",
    "papermill": {
     "duration": null,
     "end_time": null,
     "exception": null,
     "start_time": null,
     "status": "pending"
    },
    "tags": []
   },
   "outputs": [],
   "source": [
    "type(d)"
   ]
  },
  {
   "cell_type": "code",
   "execution_count": null,
   "id": "8b87b89c",
   "metadata": {
    "execution": {
     "iopub.execute_input": "2024-09-20T07:13:31.608457Z",
     "iopub.status.busy": "2024-09-20T07:13:31.608000Z",
     "iopub.status.idle": "2024-09-20T07:13:31.614241Z",
     "shell.execute_reply": "2024-09-20T07:13:31.612676Z",
     "shell.execute_reply.started": "2024-09-20T07:13:31.608406Z"
    },
    "id": "a5d53e0b-58a2-4db3-a570-d9d6e94ad1c3",
    "papermill": {
     "duration": null,
     "end_time": null,
     "exception": null,
     "start_time": null,
     "status": "pending"
    },
    "tags": []
   },
   "outputs": [],
   "source": [
    "f = a / 2"
   ]
  },
  {
   "cell_type": "code",
   "execution_count": null,
   "id": "ff189fe9",
   "metadata": {
    "execution": {
     "iopub.execute_input": "2024-09-20T07:13:31.698404Z",
     "iopub.status.busy": "2024-09-20T07:13:31.698001Z",
     "iopub.status.idle": "2024-09-20T07:13:31.704406Z",
     "shell.execute_reply": "2024-09-20T07:13:31.703190Z",
     "shell.execute_reply.started": "2024-09-20T07:13:31.698367Z"
    },
    "id": "81adbdd1-7851-4744-9739-25e4bb2a0f2c",
    "outputId": "d6334569-d34f-44a4-8e4f-6e30d51fd3c2",
    "papermill": {
     "duration": null,
     "end_time": null,
     "exception": null,
     "start_time": null,
     "status": "pending"
    },
    "tags": []
   },
   "outputs": [],
   "source": [
    "print(f)"
   ]
  },
  {
   "cell_type": "code",
   "execution_count": null,
   "id": "6dd3c9c0",
   "metadata": {
    "execution": {
     "iopub.execute_input": "2024-09-20T07:13:31.780515Z",
     "iopub.status.busy": "2024-09-20T07:13:31.780100Z",
     "iopub.status.idle": "2024-09-20T07:13:31.787418Z",
     "shell.execute_reply": "2024-09-20T07:13:31.786244Z",
     "shell.execute_reply.started": "2024-09-20T07:13:31.780477Z"
    },
    "id": "42e64df8-71e6-4197-ac82-7abaf5adafc8",
    "outputId": "445aa237-496c-4eae-bb34-5d99b58bb56e",
    "papermill": {
     "duration": null,
     "end_time": null,
     "exception": null,
     "start_time": null,
     "status": "pending"
    },
    "tags": []
   },
   "outputs": [],
   "source": [
    "type(f)"
   ]
  },
  {
   "cell_type": "code",
   "execution_count": null,
   "id": "2cf0e41d",
   "metadata": {
    "execution": {
     "iopub.execute_input": "2024-09-20T07:13:31.858204Z",
     "iopub.status.busy": "2024-09-20T07:13:31.857736Z",
     "iopub.status.idle": "2024-09-20T07:13:31.866247Z",
     "shell.execute_reply": "2024-09-20T07:13:31.864692Z",
     "shell.execute_reply.started": "2024-09-20T07:13:31.858165Z"
    },
    "id": "5dd44f88-7f0c-4135-85ed-1eb1c99fad80",
    "outputId": "9cff8915-07cf-45f1-fb30-d24cf9c18c78",
    "papermill": {
     "duration": null,
     "end_time": null,
     "exception": null,
     "start_time": null,
     "status": "pending"
    },
    "tags": []
   },
   "outputs": [],
   "source": [
    "a * b"
   ]
  },
  {
   "cell_type": "markdown",
   "id": "4ff20492",
   "metadata": {
    "id": "8290a228-6ad2-432a-a7cf-4f9e1d883bf3",
    "papermill": {
     "duration": null,
     "end_time": null,
     "exception": null,
     "start_time": null,
     "status": "pending"
    },
    "tags": []
   },
   "source": [
    "Также аккуратнее при использовании различных операций с типом float. Посмотрим на примере:"
   ]
  },
  {
   "cell_type": "code",
   "execution_count": null,
   "id": "7177ce9b",
   "metadata": {
    "execution": {
     "iopub.execute_input": "2024-09-20T07:13:32.248969Z",
     "iopub.status.busy": "2024-09-20T07:13:32.248507Z",
     "iopub.status.idle": "2024-09-20T07:13:32.256488Z",
     "shell.execute_reply": "2024-09-20T07:13:32.255048Z",
     "shell.execute_reply.started": "2024-09-20T07:13:32.248928Z"
    },
    "id": "11a927e4-9c93-4878-85fa-55636e558ca9",
    "outputId": "8a7773af-1388-489c-8ee5-64c48507d208",
    "papermill": {
     "duration": null,
     "end_time": null,
     "exception": null,
     "start_time": null,
     "status": "pending"
    },
    "tags": []
   },
   "outputs": [],
   "source": [
    "0.1 + 0.2"
   ]
  },
  {
   "cell_type": "markdown",
   "id": "f1d77508",
   "metadata": {
    "id": "2c4750a5-88eb-4ddd-b1ea-4d20c7294b2c",
    "papermill": {
     "duration": null,
     "end_time": null,
     "exception": null,
     "start_time": null,
     "status": "pending"
    },
    "tags": []
   },
   "source": [
    "## Логические операторы и булевый тип"
   ]
  },
  {
   "cell_type": "code",
   "execution_count": null,
   "id": "0e2105cc",
   "metadata": {
    "execution": {
     "iopub.execute_input": "2024-09-20T07:13:32.756611Z",
     "iopub.status.busy": "2024-09-20T07:13:32.755476Z",
     "iopub.status.idle": "2024-09-20T07:13:32.761661Z",
     "shell.execute_reply": "2024-09-20T07:13:32.760320Z",
     "shell.execute_reply.started": "2024-09-20T07:13:32.756564Z"
    },
    "id": "2b48c0f8-08b6-4c18-816e-678cae7c8d49",
    "papermill": {
     "duration": null,
     "end_time": null,
     "exception": null,
     "start_time": null,
     "status": "pending"
    },
    "tags": []
   },
   "outputs": [],
   "source": [
    "is_true = True # или False"
   ]
  },
  {
   "cell_type": "code",
   "execution_count": null,
   "id": "b8df68d7",
   "metadata": {
    "execution": {
     "iopub.execute_input": "2024-09-20T07:13:32.942939Z",
     "iopub.status.busy": "2024-09-20T07:13:32.941982Z",
     "iopub.status.idle": "2024-09-20T07:13:32.950125Z",
     "shell.execute_reply": "2024-09-20T07:13:32.948833Z",
     "shell.execute_reply.started": "2024-09-20T07:13:32.942894Z"
    },
    "id": "8ca6d4fe-db20-4c04-8ae6-d11ac5a63222",
    "outputId": "3c6a03bf-8dad-4043-cba6-f22713226483",
    "papermill": {
     "duration": null,
     "end_time": null,
     "exception": null,
     "start_time": null,
     "status": "pending"
    },
    "tags": []
   },
   "outputs": [],
   "source": [
    "is_true"
   ]
  },
  {
   "cell_type": "markdown",
   "id": "46726750",
   "metadata": {
    "id": "1ef4e978-f535-4a48-b40d-b7795d061e36",
    "papermill": {
     "duration": null,
     "end_time": null,
     "exception": null,
     "start_time": null,
     "status": "pending"
    },
    "tags": []
   },
   "source": [
    "| Обозначение | Оператор |\n",
    "|----| :--- |\n",
    "| and | Логическое И |\n",
    "| or  | Логическое ИЛИ |\n",
    "| not | Отрицание |"
   ]
  },
  {
   "cell_type": "markdown",
   "id": "08b5a8fa",
   "metadata": {
    "id": "3f8592bd-4bc8-459e-a3f9-cf7561c29cf3",
    "papermill": {
     "duration": null,
     "end_time": null,
     "exception": null,
     "start_time": null,
     "status": "pending"
    },
    "tags": []
   },
   "source": [
    "Примеры логических операторов:"
   ]
  },
  {
   "cell_type": "code",
   "execution_count": null,
   "id": "a3ddf917",
   "metadata": {
    "execution": {
     "iopub.execute_input": "2024-09-20T07:13:33.842933Z",
     "iopub.status.busy": "2024-09-20T07:13:33.842553Z",
     "iopub.status.idle": "2024-09-20T07:13:33.849469Z",
     "shell.execute_reply": "2024-09-20T07:13:33.847971Z",
     "shell.execute_reply.started": "2024-09-20T07:13:33.842900Z"
    },
    "id": "8439e204-0699-415f-a679-081e21591603",
    "outputId": "cd1a18fe-4698-4de0-87c7-138548d840c0",
    "papermill": {
     "duration": null,
     "end_time": null,
     "exception": null,
     "start_time": null,
     "status": "pending"
    },
    "tags": []
   },
   "outputs": [],
   "source": [
    "print(True and False)\n",
    "print(True or False)\n",
    "print(not False)"
   ]
  },
  {
   "cell_type": "markdown",
   "id": "5318c35c",
   "metadata": {
    "id": "5b191e47-d4f7-4dde-a91f-56115bac6162",
    "papermill": {
     "duration": null,
     "end_time": null,
     "exception": null,
     "start_time": null,
     "status": "pending"
    },
    "tags": []
   },
   "source": [
    "### Операторы сравнения"
   ]
  },
  {
   "cell_type": "markdown",
   "id": "a10d6fc7",
   "metadata": {
    "id": "5ae7e152-b20b-4fb1-890e-884e4b3fe8d3",
    "papermill": {
     "duration": null,
     "end_time": null,
     "exception": null,
     "start_time": null,
     "status": "pending"
    },
    "tags": []
   },
   "source": [
    "| Обозначение | Оператор |\n",
    "|----| :--- |\n",
    "| == | True, если равно |\n",
    "| !=  | True, если не равно |\n",
    "| < | меньше чем |\n",
    "| > | больше чем |\n",
    "| <=  | меньше чем или равно |\n",
    "| >=  | больше чем или равно |"
   ]
  },
  {
   "cell_type": "code",
   "execution_count": null,
   "id": "3f3a84d9",
   "metadata": {
    "execution": {
     "iopub.execute_input": "2024-09-20T07:13:34.539891Z",
     "iopub.status.busy": "2024-09-20T07:13:34.539397Z",
     "iopub.status.idle": "2024-09-20T07:13:34.547934Z",
     "shell.execute_reply": "2024-09-20T07:13:34.546518Z",
     "shell.execute_reply.started": "2024-09-20T07:13:34.539851Z"
    },
    "id": "69c3a2ef-efcc-40ff-a2d7-5a99610e63e9",
    "outputId": "5d201100-1cce-4afe-a71e-0a38274593e5",
    "papermill": {
     "duration": null,
     "end_time": null,
     "exception": null,
     "start_time": null,
     "status": "pending"
    },
    "tags": []
   },
   "outputs": [],
   "source": [
    "4 * 2 == 8"
   ]
  },
  {
   "cell_type": "code",
   "execution_count": null,
   "id": "67652c20",
   "metadata": {
    "execution": {
     "iopub.execute_input": "2024-09-20T07:13:34.780900Z",
     "iopub.status.busy": "2024-09-20T07:13:34.779711Z",
     "iopub.status.idle": "2024-09-20T07:13:34.788231Z",
     "shell.execute_reply": "2024-09-20T07:13:34.786893Z",
     "shell.execute_reply.started": "2024-09-20T07:13:34.780852Z"
    },
    "id": "b57b2969-c8f1-4b52-bdd6-4bb9c591bc6d",
    "outputId": "740d104a-e720-49bd-96bf-2946f6b6f7cc",
    "papermill": {
     "duration": null,
     "end_time": null,
     "exception": null,
     "start_time": null,
     "status": "pending"
    },
    "tags": []
   },
   "outputs": [],
   "source": [
    "5 > 7"
   ]
  },
  {
   "cell_type": "markdown",
   "id": "bdefea48",
   "metadata": {
    "id": "04da9f4b-01bc-4c45-bf4c-c15f6d0c81b9",
    "papermill": {
     "duration": null,
     "end_time": null,
     "exception": null,
     "start_time": null,
     "status": "pending"
    },
    "tags": []
   },
   "source": [
    "## None"
   ]
  },
  {
   "cell_type": "markdown",
   "id": "bfa85e6e",
   "metadata": {
    "id": "7b0cde68-b957-4410-a23c-adce2889ba67",
    "papermill": {
     "duration": null,
     "end_time": null,
     "exception": null,
     "start_time": null,
     "status": "pending"
    },
    "tags": []
   },
   "source": [
    "`None` используется для определения отсутствия значения"
   ]
  },
  {
   "cell_type": "code",
   "execution_count": null,
   "id": "08880601",
   "metadata": {
    "execution": {
     "iopub.execute_input": "2024-09-20T07:13:36.447082Z",
     "iopub.status.busy": "2024-09-20T07:13:36.446680Z",
     "iopub.status.idle": "2024-09-20T07:13:36.452845Z",
     "shell.execute_reply": "2024-09-20T07:13:36.451380Z",
     "shell.execute_reply.started": "2024-09-20T07:13:36.447044Z"
    },
    "id": "8fa19812-f8ca-4a5b-b720-affc4bc7548c",
    "papermill": {
     "duration": null,
     "end_time": null,
     "exception": null,
     "start_time": null,
     "status": "pending"
    },
    "tags": []
   },
   "outputs": [],
   "source": [
    "x = None  # Это значит, что переменной x не присвоено никакое значение."
   ]
  },
  {
   "cell_type": "markdown",
   "id": "49ceb98e",
   "metadata": {
    "id": "aa4961c7-3724-453a-9cc7-daabe4703920",
    "papermill": {
     "duration": null,
     "end_time": null,
     "exception": null,
     "start_time": null,
     "status": "pending"
    },
    "tags": []
   },
   "source": [
    "## Строки"
   ]
  },
  {
   "cell_type": "markdown",
   "id": "458bc288",
   "metadata": {
    "id": "ff86f061-8b1b-48a0-a96a-9233f9284cf5",
    "papermill": {
     "duration": null,
     "end_time": null,
     "exception": null,
     "start_time": null,
     "status": "pending"
    },
    "tags": []
   },
   "source": [
    "Строки в Python — это тип данных, в которых содержатся текстовые символы. Для создания строки мы должны записать символы в \\\"\\\" (двойные) или '' (одинарные) кавычки."
   ]
  },
  {
   "cell_type": "code",
   "execution_count": null,
   "id": "40b7a2bd",
   "metadata": {
    "execution": {
     "iopub.execute_input": "2024-09-20T07:13:36.972233Z",
     "iopub.status.busy": "2024-09-20T07:13:36.971745Z",
     "iopub.status.idle": "2024-09-20T07:13:36.978498Z",
     "shell.execute_reply": "2024-09-20T07:13:36.977075Z",
     "shell.execute_reply.started": "2024-09-20T07:13:36.972192Z"
    },
    "id": "695b456b-2ead-4675-a8e7-f1015f0e5f0f",
    "papermill": {
     "duration": null,
     "end_time": null,
     "exception": null,
     "start_time": null,
     "status": "pending"
    },
    "tags": []
   },
   "outputs": [],
   "source": [
    "s_1 = \"Sber\"  # str"
   ]
  },
  {
   "cell_type": "markdown",
   "id": "3c6a3c84",
   "metadata": {
    "id": "52754229-8c19-4953-90a4-8129e8ea6f1e",
    "papermill": {
     "duration": null,
     "end_time": null,
     "exception": null,
     "start_time": null,
     "status": "pending"
    },
    "tags": []
   },
   "source": [
    "Функция `len()` возвращает длину строки."
   ]
  },
  {
   "cell_type": "code",
   "execution_count": null,
   "id": "4a239325",
   "metadata": {
    "execution": {
     "iopub.execute_input": "2024-09-20T07:13:37.777357Z",
     "iopub.status.busy": "2024-09-20T07:13:37.776952Z",
     "iopub.status.idle": "2024-09-20T07:13:37.784084Z",
     "shell.execute_reply": "2024-09-20T07:13:37.783049Z",
     "shell.execute_reply.started": "2024-09-20T07:13:37.777312Z"
    },
    "id": "fa293ce0-dacc-4a91-99b7-0572d08a350d",
    "outputId": "23bfdfdf-80f9-4723-94e5-9f175f396e1d",
    "papermill": {
     "duration": null,
     "end_time": null,
     "exception": null,
     "start_time": null,
     "status": "pending"
    },
    "tags": []
   },
   "outputs": [],
   "source": [
    "len(\"Sber 21\")"
   ]
  },
  {
   "cell_type": "markdown",
   "id": "edaa6a02",
   "metadata": {
    "id": "7d0fa6db-a1b1-442c-a2bb-06b4d52dca17",
    "papermill": {
     "duration": null,
     "end_time": null,
     "exception": null,
     "start_time": null,
     "status": "pending"
    },
    "tags": []
   },
   "source": [
    "У строк огромное количество методов, например, метод `.replace()`, который позволяет заменять символы в строке:"
   ]
  },
  {
   "cell_type": "code",
   "execution_count": null,
   "id": "5606cddc",
   "metadata": {
    "execution": {
     "iopub.execute_input": "2024-09-20T07:13:37.942103Z",
     "iopub.status.busy": "2024-09-20T07:13:37.941713Z",
     "iopub.status.idle": "2024-09-20T07:13:37.946914Z",
     "shell.execute_reply": "2024-09-20T07:13:37.945620Z",
     "shell.execute_reply.started": "2024-09-20T07:13:37.942066Z"
    },
    "id": "69f9dc03-0246-4b77-abb9-656310776c2b",
    "papermill": {
     "duration": null,
     "end_time": null,
     "exception": null,
     "start_time": null,
     "status": "pending"
    },
    "tags": []
   },
   "outputs": [],
   "source": [
    "string = 'малако'"
   ]
  },
  {
   "cell_type": "code",
   "execution_count": null,
   "id": "e82eedc3",
   "metadata": {
    "execution": {
     "iopub.execute_input": "2024-09-20T07:13:38.025002Z",
     "iopub.status.busy": "2024-09-20T07:13:38.024603Z",
     "iopub.status.idle": "2024-09-20T07:13:38.032055Z",
     "shell.execute_reply": "2024-09-20T07:13:38.030845Z",
     "shell.execute_reply.started": "2024-09-20T07:13:38.024965Z"
    },
    "id": "fb0b3a68-8c60-410d-bf12-da3823d58da5",
    "outputId": "0275c449-c625-4d83-86a5-6659125ff57a",
    "papermill": {
     "duration": null,
     "end_time": null,
     "exception": null,
     "start_time": null,
     "status": "pending"
    },
    "tags": []
   },
   "outputs": [],
   "source": [
    "string.replace('а', 'о')"
   ]
  },
  {
   "cell_type": "markdown",
   "id": "a9009d10",
   "metadata": {
    "id": "ae662e8b-5f07-4906-b4c9-827915cd54d5",
    "papermill": {
     "duration": null,
     "end_time": null,
     "exception": null,
     "start_time": null,
     "status": "pending"
    },
    "tags": []
   },
   "source": [
    "## Коллекции"
   ]
  },
  {
   "cell_type": "markdown",
   "id": "25d07ed1",
   "metadata": {
    "id": "97600b63-c353-4018-b47b-e8690ae2acd6",
    "papermill": {
     "duration": null,
     "end_time": null,
     "exception": null,
     "start_time": null,
     "status": "pending"
    },
    "tags": []
   },
   "source": [
    "До сих пор мы рассматривали только числа и строки и то, как писать простые выражения с их участием. В целом, написание программ — это управление более сложными коллекциями таких элементов. Это значит, что нужно думать о структурах данных для хранения данных и алгоритмах для манипулирования ими."
   ]
  },
  {
   "cell_type": "markdown",
   "id": "1829d416",
   "metadata": {
    "id": "e124d411-b34e-4b8b-8628-6b43dacdc202",
    "papermill": {
     "duration": null,
     "end_time": null,
     "exception": null,
     "start_time": null,
     "status": "pending"
    },
    "tags": []
   },
   "source": [
    "### Списки"
   ]
  },
  {
   "cell_type": "markdown",
   "id": "07bd7f24",
   "metadata": {
    "id": "313dba3a-c37f-452c-9379-186abe3ba032",
    "papermill": {
     "duration": null,
     "end_time": null,
     "exception": null,
     "start_time": null,
     "status": "pending"
    },
    "tags": []
   },
   "source": [
    "Списки (List) — это наиболее часто используемая структура данных. Считай, что это последовательность данных, заключенных в квадратные скобки, которые разделяются запятой. Каждый элемент списка может быть доступен по позиции элемента в списке."
   ]
  },
  {
   "cell_type": "code",
   "execution_count": null,
   "id": "348b7bf4",
   "metadata": {
    "execution": {
     "iopub.execute_input": "2024-09-20T07:13:39.089327Z",
     "iopub.status.busy": "2024-09-20T07:13:39.088809Z",
     "iopub.status.idle": "2024-09-20T07:13:39.095415Z",
     "shell.execute_reply": "2024-09-20T07:13:39.093976Z",
     "shell.execute_reply.started": "2024-09-20T07:13:39.089284Z"
    },
    "id": "be43730a-39a6-47a9-9018-f2eb17cad7dc",
    "papermill": {
     "duration": null,
     "end_time": null,
     "exception": null,
     "start_time": null,
     "status": "pending"
    },
    "tags": []
   },
   "outputs": [],
   "source": [
    "lst = ['Hello', 2, True]"
   ]
  },
  {
   "cell_type": "code",
   "execution_count": null,
   "id": "9f2ea34d",
   "metadata": {
    "execution": {
     "iopub.execute_input": "2024-09-20T07:13:39.174033Z",
     "iopub.status.busy": "2024-09-20T07:13:39.173594Z",
     "iopub.status.idle": "2024-09-20T07:13:39.182475Z",
     "shell.execute_reply": "2024-09-20T07:13:39.181025Z",
     "shell.execute_reply.started": "2024-09-20T07:13:39.173995Z"
    },
    "id": "c46a76a7-d4f9-4aa7-a880-19818c7acf45",
    "outputId": "710dbc34-d820-4147-b81c-562b51ef8096",
    "papermill": {
     "duration": null,
     "end_time": null,
     "exception": null,
     "start_time": null,
     "status": "pending"
    },
    "tags": []
   },
   "outputs": [],
   "source": [
    "type(lst)"
   ]
  },
  {
   "cell_type": "markdown",
   "id": "85f5db4e",
   "metadata": {
    "id": "62ae3a5e-f3f0-4c89-abfc-8862118d7b4e",
    "papermill": {
     "duration": null,
     "end_time": null,
     "exception": null,
     "start_time": null,
     "status": "pending"
    },
    "tags": []
   },
   "source": [
    "К элементу списка можно обратиться по его индексу. В Python индексация начинается с 0, как уже было замечено для строк."
   ]
  },
  {
   "cell_type": "code",
   "execution_count": null,
   "id": "e9f5be9c",
   "metadata": {
    "execution": {
     "iopub.execute_input": "2024-09-20T07:13:40.024133Z",
     "iopub.status.busy": "2024-09-20T07:13:40.023710Z",
     "iopub.status.idle": "2024-09-20T07:13:40.031937Z",
     "shell.execute_reply": "2024-09-20T07:13:40.030443Z",
     "shell.execute_reply.started": "2024-09-20T07:13:40.024089Z"
    },
    "id": "5ecc225e-ec65-4c32-b4c2-6be3cde16aa9",
    "outputId": "ef992e9d-5500-4812-92d8-bc2c7ac494e0",
    "papermill": {
     "duration": null,
     "end_time": null,
     "exception": null,
     "start_time": null,
     "status": "pending"
    },
    "tags": []
   },
   "outputs": [],
   "source": [
    "lst[0]"
   ]
  },
  {
   "cell_type": "code",
   "execution_count": null,
   "id": "d1a1b34a",
   "metadata": {
    "execution": {
     "iopub.execute_input": "2024-09-20T07:13:40.523078Z",
     "iopub.status.busy": "2024-09-20T07:13:40.522602Z",
     "iopub.status.idle": "2024-09-20T07:13:40.530947Z",
     "shell.execute_reply": "2024-09-20T07:13:40.529442Z",
     "shell.execute_reply.started": "2024-09-20T07:13:40.523038Z"
    },
    "id": "d89dcb35-e0a5-4ea3-a8f2-eb7cc4792b59",
    "outputId": "6fc4a16d-497d-4bc7-b47e-3c726cbd091f",
    "papermill": {
     "duration": null,
     "end_time": null,
     "exception": null,
     "start_time": null,
     "status": "pending"
    },
    "tags": []
   },
   "outputs": [],
   "source": [
    "lst[2]"
   ]
  },
  {
   "cell_type": "markdown",
   "id": "8d274e9f",
   "metadata": {
    "id": "ef4f611a-50bd-408d-8414-50daf12e82c4",
    "papermill": {
     "duration": null,
     "end_time": null,
     "exception": null,
     "start_time": null,
     "status": "pending"
    },
    "tags": []
   },
   "source": [
    "### Словари"
   ]
  },
  {
   "cell_type": "markdown",
   "id": "5c9ec3b4",
   "metadata": {
    "id": "da19d9f5-4dcd-4b64-8b33-944223961ad8",
    "papermill": {
     "duration": null,
     "end_time": null,
     "exception": null,
     "start_time": null,
     "status": "pending"
    },
    "tags": []
   },
   "source": [
    "Словари (Dict) — это отображения между ключами и элементами, хранящимися в словарях. В качестве альтернативы можно рассматривать словари как множества, в которых что-то хранится против каждого элемента множества. Они могут быть определены следующим образом:"
   ]
  },
  {
   "cell_type": "code",
   "execution_count": null,
   "id": "843f9de4",
   "metadata": {
    "execution": {
     "iopub.execute_input": "2024-09-20T07:13:40.771934Z",
     "iopub.status.busy": "2024-09-20T07:13:40.771504Z",
     "iopub.status.idle": "2024-09-20T07:13:40.777810Z",
     "shell.execute_reply": "2024-09-20T07:13:40.776291Z",
     "shell.execute_reply.started": "2024-09-20T07:13:40.771889Z"
    },
    "id": "15b3eab5-de05-4d0d-9325-dc9be310e135",
    "papermill": {
     "duration": null,
     "end_time": null,
     "exception": null,
     "start_time": null,
     "status": "pending"
    },
    "tags": []
   },
   "outputs": [],
   "source": [
    "d = {}\n",
    "d['key'] = 'value'"
   ]
  },
  {
   "cell_type": "code",
   "execution_count": null,
   "id": "1faa185d",
   "metadata": {
    "execution": {
     "iopub.execute_input": "2024-09-20T07:13:40.855648Z",
     "iopub.status.busy": "2024-09-20T07:13:40.854395Z",
     "iopub.status.idle": "2024-09-20T07:13:40.862508Z",
     "shell.execute_reply": "2024-09-20T07:13:40.861449Z",
     "shell.execute_reply.started": "2024-09-20T07:13:40.855603Z"
    },
    "id": "d43f06db-bec4-447e-bcd6-a8724befd7f8",
    "outputId": "0e7eb7a2-e0dc-4630-cdd7-a18df2916605",
    "papermill": {
     "duration": null,
     "end_time": null,
     "exception": null,
     "start_time": null,
     "status": "pending"
    },
    "tags": []
   },
   "outputs": [],
   "source": [
    "d"
   ]
  },
  {
   "cell_type": "code",
   "execution_count": null,
   "id": "0eb33f85",
   "metadata": {
    "execution": {
     "iopub.execute_input": "2024-09-20T07:13:41.116732Z",
     "iopub.status.busy": "2024-09-20T07:13:41.115773Z",
     "iopub.status.idle": "2024-09-20T07:13:41.122306Z",
     "shell.execute_reply": "2024-09-20T07:13:41.120953Z",
     "shell.execute_reply.started": "2024-09-20T07:13:41.116686Z"
    },
    "id": "038e0d80-67cc-4ffc-a703-22ef09424425",
    "papermill": {
     "duration": null,
     "end_time": null,
     "exception": null,
     "start_time": null,
     "status": "pending"
    },
    "tags": []
   },
   "outputs": [],
   "source": [
    "d = {1: 'Один', 2: 'Два', 3: 'Три'}"
   ]
  },
  {
   "cell_type": "code",
   "execution_count": null,
   "id": "94b08234",
   "metadata": {
    "execution": {
     "iopub.execute_input": "2024-09-20T07:13:41.351264Z",
     "iopub.status.busy": "2024-09-20T07:13:41.350845Z",
     "iopub.status.idle": "2024-09-20T07:13:41.359047Z",
     "shell.execute_reply": "2024-09-20T07:13:41.357529Z",
     "shell.execute_reply.started": "2024-09-20T07:13:41.351226Z"
    },
    "id": "46995514-9b70-49de-ad2c-d0bba9c15e30",
    "outputId": "b9a40a64-5101-4f17-fa6d-1e77ef5cadcc",
    "papermill": {
     "duration": null,
     "end_time": null,
     "exception": null,
     "start_time": null,
     "status": "pending"
    },
    "tags": []
   },
   "outputs": [],
   "source": [
    "d[3] # Можно получить значение по ключу"
   ]
  },
  {
   "cell_type": "markdown",
   "id": "ff50cb1d",
   "metadata": {
    "id": "08c59ed8-846c-443c-bdc5-e42d8175cf61",
    "papermill": {
     "duration": null,
     "end_time": null,
     "exception": null,
     "start_time": null,
     "status": "pending"
    },
    "tags": []
   },
   "source": [
    "## Функции"
   ]
  },
  {
   "cell_type": "markdown",
   "id": "b637690a",
   "metadata": {
    "id": "d09c996c-72fe-48a8-8e32-4c01a7f3ed82",
    "papermill": {
     "duration": null,
     "end_time": null,
     "exception": null,
     "start_time": null,
     "status": "pending"
    },
    "tags": []
   },
   "source": [
    "Функции — это механизм, позволяющий повторно использовать код, чтобы сложные программы можно было строить из более простых частей. Важно: начинать писать программу на Python с написания нескольких строк кода и тестирования по ходу дела — это здорово, но распространенная ошибка новичков — продолжать в том же духе. Ты не захочешь иметь программу, состоящую из 20 000 строк в одном длинном файле/блокноте. Думай о функциях, как об абзацах в английском языке. Каждый раз, когда ты начинаешь новую идею, начинай новую функцию. Это сделает твой код более читабельным, легким для отладки и, в конечном итоге, для повторного использования частей кода таким образом, который, возможно, не предполагался при первоначальном написании кода."
   ]
  },
  {
   "cell_type": "code",
   "execution_count": null,
   "id": "8b6ed073",
   "metadata": {
    "execution": {
     "iopub.execute_input": "2024-09-20T07:13:42.685819Z",
     "iopub.status.busy": "2024-09-20T07:13:42.685379Z",
     "iopub.status.idle": "2024-09-20T07:13:42.691949Z",
     "shell.execute_reply": "2024-09-20T07:13:42.690536Z",
     "shell.execute_reply.started": "2024-09-20T07:13:42.685783Z"
    },
    "id": "5027e40b-acc8-436c-8d04-fe1734a3a564",
    "outputId": "f95a22e8-e970-4f86-fc5e-8b3b7edcbfe2",
    "papermill": {
     "duration": null,
     "end_time": null,
     "exception": null,
     "start_time": null,
     "status": "pending"
    },
    "tags": []
   },
   "outputs": [],
   "source": [
    "print(\"Привет, Андрей!\")\n",
    "print(\"Как твои дела?\")"
   ]
  },
  {
   "cell_type": "markdown",
   "id": "70beb069",
   "metadata": {
    "id": "72f9a627-0be1-47d4-97a9-317518a9cb4d",
    "papermill": {
     "duration": null,
     "end_time": null,
     "exception": null,
     "start_time": null,
     "status": "pending"
    },
    "tags": []
   },
   "source": [
    "Вместо того, чтобы каждый раз писать весь повторяющийся код, можно заменить определением функции, которая выполнит эту работу всего за одну строку.\n",
    "\n",
    "Функции в Python определяются с использованием ключевого слова ```def```, за которым следует имя функции, аргументы в круглых скобках и двоеточие. Тело функции начинается с отступа и может содержать любое количество выражений."
   ]
  },
  {
   "cell_type": "code",
   "execution_count": null,
   "id": "78362ed9",
   "metadata": {
    "execution": {
     "iopub.execute_input": "2024-09-20T07:13:42.847624Z",
     "iopub.status.busy": "2024-09-20T07:13:42.847126Z",
     "iopub.status.idle": "2024-09-20T07:13:42.853210Z",
     "shell.execute_reply": "2024-09-20T07:13:42.851842Z",
     "shell.execute_reply.started": "2024-09-20T07:13:42.847581Z"
    },
    "id": "4d14a3cb-498b-412a-a2a0-43a652b6f39c",
    "papermill": {
     "duration": null,
     "end_time": null,
     "exception": null,
     "start_time": null,
     "status": "pending"
    },
    "tags": []
   },
   "outputs": [],
   "source": [
    "def имя_функции(аргументы):\n",
    "    тело_функции"
   ]
  },
  {
   "cell_type": "markdown",
   "id": "eb002ad4",
   "metadata": {
    "id": "1b825c8b-0164-4e5c-9eb0-b5a9181c5c6a",
    "papermill": {
     "duration": null,
     "end_time": null,
     "exception": null,
     "start_time": null,
     "status": "pending"
    },
    "tags": []
   },
   "source": [
    "Например, реализуем функцию приветствия:"
   ]
  },
  {
   "cell_type": "code",
   "execution_count": null,
   "id": "4d48e881",
   "metadata": {
    "execution": {
     "iopub.execute_input": "2024-09-20T07:13:44.095439Z",
     "iopub.status.busy": "2024-09-20T07:13:44.094489Z",
     "iopub.status.idle": "2024-09-20T07:13:44.100880Z",
     "shell.execute_reply": "2024-09-20T07:13:44.099380Z",
     "shell.execute_reply.started": "2024-09-20T07:13:44.095374Z"
    },
    "id": "afeb917b-1113-44a2-a0b7-80a4ad69bd2d",
    "papermill": {
     "duration": null,
     "end_time": null,
     "exception": null,
     "start_time": null,
     "status": "pending"
    },
    "tags": []
   },
   "outputs": [],
   "source": [
    "def hello():\n",
    "    # После вызова этой функции исполнится код, написанный ниже\n",
    "    print(\"Добрый день, Андрей!\")\n",
    "    print(\"Как твои дела?\")"
   ]
  },
  {
   "cell_type": "code",
   "execution_count": null,
   "id": "f3d075c9",
   "metadata": {
    "execution": {
     "iopub.execute_input": "2024-09-20T07:13:44.179692Z",
     "iopub.status.busy": "2024-09-20T07:13:44.178459Z",
     "iopub.status.idle": "2024-09-20T07:13:44.185657Z",
     "shell.execute_reply": "2024-09-20T07:13:44.184252Z",
     "shell.execute_reply.started": "2024-09-20T07:13:44.179643Z"
    },
    "id": "18f9c1df-0d57-4167-90f3-1f7618e63757",
    "outputId": "9a042662-58cd-423a-9efd-a248cd1d0d55",
    "papermill": {
     "duration": null,
     "end_time": null,
     "exception": null,
     "start_time": null,
     "status": "pending"
    },
    "tags": []
   },
   "outputs": [],
   "source": [
    "hello()"
   ]
  },
  {
   "cell_type": "markdown",
   "id": "c5f80c09",
   "metadata": {
    "id": "50a6c5c8-3937-4462-9038-c9bc40f42bd6",
    "papermill": {
     "duration": null,
     "end_time": null,
     "exception": null,
     "start_time": null,
     "status": "pending"
    },
    "tags": []
   },
   "source": [
    "Наша функция `hello()` всегда будет приветствовать Андрея. Мы можем сделать нашу функцию `hello()` принимающей аргументы, которые будут хранить имя, с кем нужно поздороваться. Для этого добавь аргумент в функцию."
   ]
  },
  {
   "cell_type": "code",
   "execution_count": null,
   "id": "ee0e20f6",
   "metadata": {
    "execution": {
     "iopub.execute_input": "2024-09-20T07:13:45.110563Z",
     "iopub.status.busy": "2024-09-20T07:13:45.109486Z",
     "iopub.status.idle": "2024-09-20T07:13:45.116528Z",
     "shell.execute_reply": "2024-09-20T07:13:45.115032Z",
     "shell.execute_reply.started": "2024-09-20T07:13:45.110506Z"
    },
    "id": "7ba3523a-0653-464c-ab61-bedb0840bb6d",
    "papermill": {
     "duration": null,
     "end_time": null,
     "exception": null,
     "start_time": null,
     "status": "pending"
    },
    "tags": []
   },
   "outputs": [],
   "source": [
    "def hello(name):\n",
    "    # После вызова этой функции исполнится код, написанный ниже\n",
    "    print(\"Добрый день, %s!\" % name)\n",
    "    print(\"Как твои дела?\")"
   ]
  },
  {
   "cell_type": "code",
   "execution_count": null,
   "id": "cd183372",
   "metadata": {
    "execution": {
     "iopub.execute_input": "2024-09-20T07:13:45.608507Z",
     "iopub.status.busy": "2024-09-20T07:13:45.608060Z",
     "iopub.status.idle": "2024-09-20T07:13:45.614798Z",
     "shell.execute_reply": "2024-09-20T07:13:45.613378Z",
     "shell.execute_reply.started": "2024-09-20T07:13:45.608465Z"
    },
    "id": "a072cb18-f471-46b0-880a-488a4b2f76f0",
    "outputId": "856052da-c8cb-45e6-eaf7-867d6e600376",
    "papermill": {
     "duration": null,
     "end_time": null,
     "exception": null,
     "start_time": null,
     "status": "pending"
    },
    "tags": []
   },
   "outputs": [],
   "source": [
    "hello(\"Андрей\")"
   ]
  },
  {
   "cell_type": "code",
   "execution_count": null,
   "id": "2f966691",
   "metadata": {
    "execution": {
     "iopub.execute_input": "2024-09-20T07:13:45.694558Z",
     "iopub.status.busy": "2024-09-20T07:13:45.694132Z",
     "iopub.status.idle": "2024-09-20T07:13:45.700689Z",
     "shell.execute_reply": "2024-09-20T07:13:45.699240Z",
     "shell.execute_reply.started": "2024-09-20T07:13:45.694521Z"
    },
    "id": "c4b6a5e1-2a54-4afc-8d59-9e88cf73ad9a",
    "outputId": "ae734dd2-433f-4ccb-e3f1-ba4b813e040b",
    "papermill": {
     "duration": null,
     "end_time": null,
     "exception": null,
     "start_time": null,
     "status": "pending"
    },
    "tags": []
   },
   "outputs": [],
   "source": [
    "hello(\"Света\")"
   ]
  },
  {
   "cell_type": "markdown",
   "id": "ea6a7927",
   "metadata": {
    "id": "a95e2160-753e-47de-8315-d0609f1be833",
    "papermill": {
     "duration": null,
     "end_time": null,
     "exception": null,
     "start_time": null,
     "status": "pending"
    },
    "tags": []
   },
   "source": [
    "## Pandas"
   ]
  },
  {
   "cell_type": "markdown",
   "id": "1540a23b",
   "metadata": {
    "id": "6f563f82-8e66-407a-8ff5-fd30156b2c18",
    "papermill": {
     "duration": null,
     "end_time": null,
     "exception": null,
     "start_time": null,
     "status": "pending"
    },
    "tags": []
   },
   "source": [
    "### Импортирование библиотек"
   ]
  },
  {
   "cell_type": "code",
   "execution_count": null,
   "id": "f8e8167a",
   "metadata": {
    "execution": {
     "iopub.execute_input": "2025-04-07T13:55:31.424464Z",
     "iopub.status.busy": "2025-04-07T13:55:31.423985Z",
     "iopub.status.idle": "2025-04-07T13:55:31.836296Z",
     "shell.execute_reply": "2025-04-07T13:55:31.834911Z",
     "shell.execute_reply.started": "2025-04-07T13:55:31.424419Z"
    },
    "id": "d5027cdf-8d16-4096-9875-e812696103a8",
    "papermill": {
     "duration": null,
     "end_time": null,
     "exception": null,
     "start_time": null,
     "status": "pending"
    },
    "tags": []
   },
   "outputs": [],
   "source": [
    "import pandas as pd"
   ]
  },
  {
   "cell_type": "markdown",
   "id": "035fb779",
   "metadata": {
    "id": "95b81626-fe8e-4c6a-a4d9-d06d610dd82d",
    "papermill": {
     "duration": null,
     "end_time": null,
     "exception": null,
     "start_time": null,
     "status": "pending"
    },
    "tags": []
   },
   "source": [
    "### Чтение данных"
   ]
  },
  {
   "cell_type": "code",
   "execution_count": null,
   "id": "6b7d54f3",
   "metadata": {
    "execution": {
     "iopub.execute_input": "2025-04-07T13:55:34.188669Z",
     "iopub.status.busy": "2025-04-07T13:55:34.188091Z",
     "iopub.status.idle": "2025-04-07T13:55:34.211047Z",
     "shell.execute_reply": "2025-04-07T13:55:34.209688Z",
     "shell.execute_reply.started": "2025-04-07T13:55:34.188632Z"
    },
    "id": "6bb4502a-1434-48a9-a022-9014df293746",
    "papermill": {
     "duration": null,
     "end_time": null,
     "exception": null,
     "start_time": null,
     "status": "pending"
    },
    "tags": []
   },
   "outputs": [],
   "source": [
    "df1 = pd.read_csv('/kaggle/input/day-00-workshop-data-v1/users_1.csv') #указываем путь к файлу"
   ]
  },
  {
   "cell_type": "code",
   "execution_count": null,
   "id": "401177ae",
   "metadata": {
    "execution": {
     "iopub.execute_input": "2025-04-07T13:55:44.271448Z",
     "iopub.status.busy": "2025-04-07T13:55:44.271030Z",
     "iopub.status.idle": "2025-04-07T13:55:44.301601Z",
     "shell.execute_reply": "2025-04-07T13:55:44.300435Z",
     "shell.execute_reply.started": "2025-04-07T13:55:44.271402Z"
    },
    "id": "32da61d3-2dbd-4709-b3d0-dde01d6fb2a3",
    "outputId": "2b69c888-70af-4e20-a037-9a06730fa886",
    "papermill": {
     "duration": null,
     "end_time": null,
     "exception": null,
     "start_time": null,
     "status": "pending"
    },
    "tags": []
   },
   "outputs": [],
   "source": [
    "df1"
   ]
  },
  {
   "cell_type": "code",
   "execution_count": null,
   "id": "b15f6768",
   "metadata": {
    "execution": {
     "iopub.execute_input": "2024-09-20T07:15:40.556973Z",
     "iopub.status.busy": "2024-09-20T07:15:40.556571Z",
     "iopub.status.idle": "2024-09-20T07:15:40.582566Z",
     "shell.execute_reply": "2024-09-20T07:15:40.581055Z",
     "shell.execute_reply.started": "2024-09-20T07:15:40.556935Z"
    },
    "id": "0aebcbbd-81c7-41f2-84b7-5c4fb0d588c5",
    "outputId": "0fa3f719-1cd1-4f4e-d124-7edcd70df9f0",
    "papermill": {
     "duration": null,
     "end_time": null,
     "exception": null,
     "start_time": null,
     "status": "pending"
    },
    "tags": []
   },
   "outputs": [],
   "source": [
    "df1.info()"
   ]
  },
  {
   "cell_type": "code",
   "execution_count": null,
   "id": "65cbc205",
   "metadata": {
    "execution": {
     "iopub.execute_input": "2025-04-07T13:55:53.305459Z",
     "iopub.status.busy": "2025-04-07T13:55:53.305113Z",
     "iopub.status.idle": "2025-04-07T13:55:53.311986Z",
     "shell.execute_reply": "2025-04-07T13:55:53.310605Z",
     "shell.execute_reply.started": "2025-04-07T13:55:53.305432Z"
    },
    "id": "51d6ccef-2496-4d08-a9bd-1d99712c0d13",
    "outputId": "1d4a2bc4-f9ec-41f9-b926-9c26fa6972f4",
    "papermill": {
     "duration": null,
     "end_time": null,
     "exception": null,
     "start_time": null,
     "status": "pending"
    },
    "tags": []
   },
   "outputs": [],
   "source": [
    "df1.columns"
   ]
  },
  {
   "cell_type": "markdown",
   "id": "3ff7953c",
   "metadata": {
    "id": "60200681-435a-445a-bb22-e37dfff0b34f",
    "papermill": {
     "duration": null,
     "end_time": null,
     "exception": null,
     "start_time": null,
     "status": "pending"
    },
    "tags": []
   },
   "source": [
    "### Дополение данных"
   ]
  },
  {
   "cell_type": "code",
   "execution_count": null,
   "id": "fb1bdaf6",
   "metadata": {
    "execution": {
     "iopub.execute_input": "2025-04-07T13:56:28.850912Z",
     "iopub.status.busy": "2025-04-07T13:56:28.850544Z",
     "iopub.status.idle": "2025-04-07T13:56:28.861974Z",
     "shell.execute_reply": "2025-04-07T13:56:28.860927Z",
     "shell.execute_reply.started": "2025-04-07T13:56:28.850876Z"
    },
    "id": "0f8d4fb1-363c-49fc-9155-670d38e322dd",
    "papermill": {
     "duration": null,
     "end_time": null,
     "exception": null,
     "start_time": null,
     "status": "pending"
    },
    "tags": []
   },
   "outputs": [],
   "source": [
    "df2 = pd.read_csv('/kaggle/input/day-00-workshop-data-v1/users_2.csv')"
   ]
  },
  {
   "cell_type": "code",
   "execution_count": null,
   "id": "e2d66312",
   "metadata": {
    "execution": {
     "iopub.execute_input": "2025-04-07T13:56:37.275167Z",
     "iopub.status.busy": "2025-04-07T13:56:37.274838Z",
     "iopub.status.idle": "2025-04-07T13:56:37.284948Z",
     "shell.execute_reply": "2025-04-07T13:56:37.283878Z",
     "shell.execute_reply.started": "2025-04-07T13:56:37.275141Z"
    },
    "id": "abda2945-9ea4-4078-beb7-1f912cf2122a",
    "outputId": "5bafa89d-8b4c-4a9f-c6b2-8902af67461a",
    "papermill": {
     "duration": null,
     "end_time": null,
     "exception": null,
     "start_time": null,
     "status": "pending"
    },
    "tags": []
   },
   "outputs": [],
   "source": [
    "df2"
   ]
  },
  {
   "cell_type": "code",
   "execution_count": null,
   "id": "27987bfc",
   "metadata": {
    "execution": {
     "iopub.execute_input": "2025-04-07T13:56:43.367939Z",
     "iopub.status.busy": "2025-04-07T13:56:43.367587Z",
     "iopub.status.idle": "2025-04-07T13:56:43.373901Z",
     "shell.execute_reply": "2025-04-07T13:56:43.372736Z",
     "shell.execute_reply.started": "2025-04-07T13:56:43.367915Z"
    },
    "id": "9e4d2b5c-463c-43eb-a7e1-170313e979a4",
    "papermill": {
     "duration": null,
     "end_time": null,
     "exception": null,
     "start_time": null,
     "status": "pending"
    },
    "tags": []
   },
   "outputs": [],
   "source": [
    "df = pd.concat([df1, df2])"
   ]
  },
  {
   "cell_type": "code",
   "execution_count": null,
   "id": "1a93d717",
   "metadata": {
    "execution": {
     "iopub.execute_input": "2025-04-07T13:56:47.318179Z",
     "iopub.status.busy": "2025-04-07T13:56:47.317827Z",
     "iopub.status.idle": "2025-04-07T13:56:47.329042Z",
     "shell.execute_reply": "2025-04-07T13:56:47.328007Z",
     "shell.execute_reply.started": "2025-04-07T13:56:47.318151Z"
    },
    "id": "75500147-1021-473f-9580-bc0d558e9daa",
    "outputId": "5ed99047-dae5-45a4-f9e2-3ed19ddff40a",
    "papermill": {
     "duration": null,
     "end_time": null,
     "exception": null,
     "start_time": null,
     "status": "pending"
    },
    "tags": []
   },
   "outputs": [],
   "source": [
    "df"
   ]
  },
  {
   "cell_type": "markdown",
   "id": "88f860d2",
   "metadata": {
    "id": "a7e58759-a1d2-49ce-88f2-9f518d8436ed",
    "papermill": {
     "duration": null,
     "end_time": null,
     "exception": null,
     "start_time": null,
     "status": "pending"
    },
    "tags": []
   },
   "source": [
    "### Колонки и индексы"
   ]
  },
  {
   "cell_type": "code",
   "execution_count": null,
   "id": "971a312b",
   "metadata": {
    "execution": {
     "iopub.execute_input": "2025-04-07T13:57:37.167210Z",
     "iopub.status.busy": "2025-04-07T13:57:37.166805Z",
     "iopub.status.idle": "2025-04-07T13:57:37.173915Z",
     "shell.execute_reply": "2025-04-07T13:57:37.172828Z",
     "shell.execute_reply.started": "2025-04-07T13:57:37.167167Z"
    },
    "id": "6a9625e2-b478-4e18-bd29-ac01aa884608",
    "outputId": "78ce5f85-966c-4580-ebc1-01c2fc7b1bb7",
    "papermill": {
     "duration": null,
     "end_time": null,
     "exception": null,
     "start_time": null,
     "status": "pending"
    },
    "tags": []
   },
   "outputs": [],
   "source": [
    "df.columns"
   ]
  },
  {
   "cell_type": "code",
   "execution_count": null,
   "id": "36b73f24",
   "metadata": {
    "execution": {
     "iopub.execute_input": "2024-09-20T07:15:50.739473Z",
     "iopub.status.busy": "2024-09-20T07:15:50.739045Z",
     "iopub.status.idle": "2024-09-20T07:15:50.747897Z",
     "shell.execute_reply": "2024-09-20T07:15:50.746417Z",
     "shell.execute_reply.started": "2024-09-20T07:15:50.739411Z"
    },
    "id": "b0507718-d7ea-47ad-91d8-0ad56a45dd2e",
    "outputId": "92550f3e-b0a2-4d0b-dd7d-d59e23ad5b84",
    "papermill": {
     "duration": null,
     "end_time": null,
     "exception": null,
     "start_time": null,
     "status": "pending"
    },
    "tags": []
   },
   "outputs": [],
   "source": [
    "df.index"
   ]
  },
  {
   "cell_type": "code",
   "execution_count": null,
   "id": "ac7eafa2",
   "metadata": {
    "execution": {
     "iopub.execute_input": "2025-04-07T13:57:43.128472Z",
     "iopub.status.busy": "2025-04-07T13:57:43.128067Z",
     "iopub.status.idle": "2025-04-07T13:57:43.137861Z",
     "shell.execute_reply": "2025-04-07T13:57:43.136282Z",
     "shell.execute_reply.started": "2025-04-07T13:57:43.128434Z"
    },
    "id": "527fa909-4d1a-4636-a684-fee13f3451ee",
    "papermill": {
     "duration": null,
     "end_time": null,
     "exception": null,
     "start_time": null,
     "status": "pending"
    },
    "tags": []
   },
   "outputs": [],
   "source": [
    "df.set_index(\"ID\", inplace=True)"
   ]
  },
  {
   "cell_type": "code",
   "execution_count": null,
   "id": "53a2858a",
   "metadata": {
    "execution": {
     "iopub.execute_input": "2025-04-07T13:57:45.031013Z",
     "iopub.status.busy": "2025-04-07T13:57:45.030638Z",
     "iopub.status.idle": "2025-04-07T13:57:45.042255Z",
     "shell.execute_reply": "2025-04-07T13:57:45.040950Z",
     "shell.execute_reply.started": "2025-04-07T13:57:45.030982Z"
    },
    "id": "637f4321-effc-4efc-8fbc-e34a870e1fd2",
    "outputId": "4f2b672b-3e8c-47d6-8f81-defc2813dc74",
    "papermill": {
     "duration": null,
     "end_time": null,
     "exception": null,
     "start_time": null,
     "status": "pending"
    },
    "tags": []
   },
   "outputs": [],
   "source": [
    "df"
   ]
  },
  {
   "cell_type": "markdown",
   "id": "218e85d4",
   "metadata": {
    "id": "6828049a-cfdc-4a40-968d-2941fd6c049d",
    "papermill": {
     "duration": null,
     "end_time": null,
     "exception": null,
     "start_time": null,
     "status": "pending"
    },
    "tags": []
   },
   "source": [
    "### Объединение данных"
   ]
  },
  {
   "cell_type": "code",
   "execution_count": null,
   "id": "3cdf1960",
   "metadata": {
    "execution": {
     "iopub.execute_input": "2025-04-07T14:00:55.229125Z",
     "iopub.status.busy": "2025-04-07T14:00:55.228778Z",
     "iopub.status.idle": "2025-04-07T14:00:55.248846Z",
     "shell.execute_reply": "2025-04-07T14:00:55.247830Z",
     "shell.execute_reply.started": "2025-04-07T14:00:55.229096Z"
    },
    "id": "8d6495e1-1983-4d73-b287-97bd802088cc",
    "papermill": {
     "duration": null,
     "end_time": null,
     "exception": null,
     "start_time": null,
     "status": "pending"
    },
    "tags": []
   },
   "outputs": [],
   "source": [
    "cities = pd.read_csv('/kaggle/input/day-00-workshop-data-v1/city.csv')"
   ]
  },
  {
   "cell_type": "code",
   "execution_count": null,
   "id": "6e972898",
   "metadata": {
    "execution": {
     "iopub.execute_input": "2025-04-07T14:01:00.438208Z",
     "iopub.status.busy": "2025-04-07T14:01:00.437867Z",
     "iopub.status.idle": "2025-04-07T14:01:00.448607Z",
     "shell.execute_reply": "2025-04-07T14:01:00.447266Z",
     "shell.execute_reply.started": "2025-04-07T14:01:00.438182Z"
    },
    "id": "080022e8-4103-47de-ac3f-f629048993fe",
    "outputId": "3e560929-c40e-44a0-bb3f-8843e55a8d94",
    "papermill": {
     "duration": null,
     "end_time": null,
     "exception": null,
     "start_time": null,
     "status": "pending"
    },
    "tags": []
   },
   "outputs": [],
   "source": [
    "df"
   ]
  },
  {
   "cell_type": "code",
   "execution_count": null,
   "id": "9f198fa4",
   "metadata": {
    "execution": {
     "iopub.execute_input": "2025-04-07T14:01:03.515119Z",
     "iopub.status.busy": "2025-04-07T14:01:03.514780Z",
     "iopub.status.idle": "2025-04-07T14:01:03.531937Z",
     "shell.execute_reply": "2025-04-07T14:01:03.530593Z",
     "shell.execute_reply.started": "2025-04-07T14:01:03.515093Z"
    },
    "id": "517ff858-6efe-42bd-bc41-502577d4961a",
    "outputId": "36babcb9-e7d7-477b-ab16-2c77d3a75e8f",
    "papermill": {
     "duration": null,
     "end_time": null,
     "exception": null,
     "start_time": null,
     "status": "pending"
    },
    "tags": []
   },
   "outputs": [],
   "source": [
    "cities"
   ]
  },
  {
   "cell_type": "code",
   "execution_count": null,
   "id": "27bbe95e",
   "metadata": {
    "execution": {
     "iopub.execute_input": "2025-04-07T14:01:07.176311Z",
     "iopub.status.busy": "2025-04-07T14:01:07.175997Z",
     "iopub.status.idle": "2025-04-07T14:01:07.207137Z",
     "shell.execute_reply": "2025-04-07T14:01:07.205867Z",
     "shell.execute_reply.started": "2025-04-07T14:01:07.176288Z"
    },
    "id": "5085f95c-0a12-48ec-963a-227b28369079",
    "papermill": {
     "duration": null,
     "end_time": null,
     "exception": null,
     "start_time": null,
     "status": "pending"
    },
    "tags": []
   },
   "outputs": [],
   "source": [
    "df_with_city = df.merge(\n",
    "    cities,\n",
    "    how='left',\n",
    "    left_on='город', right_on='Индекс',\n",
    "    indicator=True,\n",
    ")"
   ]
  },
  {
   "cell_type": "code",
   "execution_count": null,
   "id": "b44a2ef1",
   "metadata": {
    "execution": {
     "iopub.execute_input": "2025-04-07T14:01:10.955410Z",
     "iopub.status.busy": "2025-04-07T14:01:10.955018Z",
     "iopub.status.idle": "2025-04-07T14:01:10.977002Z",
     "shell.execute_reply": "2025-04-07T14:01:10.975802Z",
     "shell.execute_reply.started": "2025-04-07T14:01:10.955376Z"
    },
    "id": "0c97247a-f842-473d-b10e-39a1fc9739a1",
    "outputId": "d562c4a6-61a1-4d80-8d39-a680f7dc960c",
    "papermill": {
     "duration": null,
     "end_time": null,
     "exception": null,
     "start_time": null,
     "status": "pending"
    },
    "tags": []
   },
   "outputs": [],
   "source": [
    "df_with_city"
   ]
  }
 ],
 "metadata": {
  "colab": {
   "provenance": []
  },
  "kaggle": {
   "accelerator": "none",
   "dataSources": [
    {
     "datasetId": 5736912,
     "sourceId": 9440640,
     "sourceType": "datasetVersion"
    },
    {
     "datasetId": 7074723,
     "sourceId": 11311515,
     "sourceType": "datasetVersion"
    }
   ],
   "dockerImageVersionId": 30918,
   "isGpuEnabled": false,
   "isInternetEnabled": false,
   "language": "python",
   "sourceType": "notebook"
  },
  "kernelspec": {
   "display_name": "Python 3",
   "language": "python",
   "name": "python3"
  },
  "language_info": {
   "codemirror_mode": {
    "name": "ipython",
    "version": 3
   },
   "file_extension": ".py",
   "mimetype": "text/x-python",
   "name": "python",
   "nbconvert_exporter": "python",
   "pygments_lexer": "ipython3",
   "version": "3.10.12"
  },
  "papermill": {
   "default_parameters": {},
   "duration": 4.267561,
   "end_time": "2025-04-07T14:01:51.276615",
   "environment_variables": {},
   "exception": true,
   "input_path": "__notebook__.ipynb",
   "output_path": "__notebook__.ipynb",
   "parameters": {},
   "start_time": "2025-04-07T14:01:47.009054",
   "version": "2.6.0"
  },
  "widgets": {
   "application/vnd.jupyter.widget-state+json": {
    "state": {},
    "version_major": 2,
    "version_minor": 0
   }
  }
 },
 "nbformat": 4,
 "nbformat_minor": 5
}
